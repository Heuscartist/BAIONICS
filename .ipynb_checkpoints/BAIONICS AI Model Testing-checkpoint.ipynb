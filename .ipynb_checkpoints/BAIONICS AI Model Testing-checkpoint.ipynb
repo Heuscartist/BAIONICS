{
 "cells": [
  {
   "cell_type": "code",
   "execution_count": null,
   "id": "6ac9b44d",
   "metadata": {},
   "outputs": [],
   "source": [
    "!pip install tensorflow"
   ]
  },
  {
   "cell_type": "code",
   "execution_count": 1,
   "id": "ebe1ec1d",
   "metadata": {},
   "outputs": [
    {
     "name": "stdout",
     "output_type": "stream",
     "text": [
      "WARNING:tensorflow:From C:\\Users\\adilm\\anaconda3\\Lib\\site-packages\\keras\\src\\losses.py:2976: The name tf.losses.sparse_softmax_cross_entropy is deprecated. Please use tf.compat.v1.losses.sparse_softmax_cross_entropy instead.\n",
      "\n"
     ]
    }
   ],
   "source": [
    "import os\n",
    "import pandas as pd\n",
    "import numpy as np\n",
    "from sklearn.model_selection import train_test_split\n",
    "from sklearn.preprocessing import StandardScaler\n",
    "import tensorflow as tf\n",
    "from tensorflow.keras import layers, models, regularizers\n",
    "import matplotlib.pyplot as plt"
   ]
  },
  {
   "cell_type": "code",
   "execution_count": 2,
   "id": "19f6c5cb",
   "metadata": {},
   "outputs": [],
   "source": [
    "# Function to read data from folders and preprocess using FFT\n",
    "def preprocess_data(folder_path):\n",
    "    data = []\n",
    "    labels = []\n",
    "    label_to_index = {}  # Dictionary to map label strings to numerical indices\n",
    "    idx = 0\n",
    "    for folder_name in os.listdir(folder_path):\n",
    "        folder = os.path.join(folder_path, folder_name)\n",
    "        if os.path.isdir(folder):\n",
    "            for file_name in os.listdir(folder):\n",
    "                file_path = os.path.join(folder, file_name)\n",
    "                if file_path.endswith('.csv'):\n",
    "                    df = pd.read_csv(file_path, header=None)\n",
    "                    # Preprocess using FFT\n",
    "                    fft_result = np.fft.fft(df.iloc[:, 1:], axis=0)\n",
    "                    df_fft = pd.DataFrame(np.abs(fft_result))\n",
    "                    data.append(df_fft.values)\n",
    "                    # Assign numerical index to the label\n",
    "                    if folder_name not in label_to_index:\n",
    "                        label_to_index[folder_name] = idx\n",
    "                        idx += 1\n",
    "                    labels.append(label_to_index[folder_name])\n",
    "    if not data:\n",
    "        raise ValueError(\"No data loaded. Check the folder path or data format.\")\n",
    "    return np.array(data), np.array(labels)"
   ]
  },
  {
   "cell_type": "code",
   "execution_count": 7,
   "id": "1218ce02",
   "metadata": {},
   "outputs": [],
   "source": [
    "# Load data, preprocess, and split into train, test, val sets\n",
    "folder_path = \"C:/Users/adilm/OneDrive/Desktop/NEW FYP/Data\"\n",
    "data, labels = preprocess_data(folder_path)\n",
    "\n",
    "# Reshape data to combine samples and channels\n",
    "data_combined = data.reshape(data.shape[0], -1)  # Combine all channels into one dimension\n",
    "\n",
    "# Normalize the data\n",
    "scaler = StandardScaler()\n",
    "data_scaled = scaler.fit_transform(data_combined)\n",
    "\n",
    "# Handle division by zero or invalid values\n",
    "nan_mask = np.isnan(data_scaled)  # Check for NaN values\n",
    "inf_mask = np.isinf(data_scaled)  # Check for infinity values\n",
    "zero_std_mask = (scaler.scale_ == 0)  # Check for zero standard deviation\n",
    "\n",
    "# Set NaN, infinity, and zero standard deviation values to 0\n",
    "data_scaled[nan_mask] = 0\n",
    "data_scaled[inf_mask] = 0\n",
    "data_scaled[:, zero_std_mask] = 0\n",
    "\n",
    "# Reshape data back to original shape\n",
    "data_scaled_reshaped = data_scaled.reshape(data.shape)\n",
    "\n",
    "# Split data into train, test, and validation sets\n",
    "X_train, X_test, y_train, y_test = train_test_split(data_scaled_reshaped, labels, test_size=0.2, random_state=42)\n",
    "X_test, X_val, y_test, y_val = train_test_split(X_test, y_test, test_size=0.5, random_state=42)"
   ]
  },
  {
   "cell_type": "code",
   "execution_count": null,
   "id": "4dcaaa9a",
   "metadata": {},
   "outputs": [],
   "source": [
    "# Define the Conv1D neural network model\n",
    "num_classes = len(set(labels))\n",
    "model = models.Sequential([\n",
    "    layers.Conv1D(64, 5, activation='relu', input_shape=X_train.shape[1:]),\n",
    "    layers.MaxPooling1D(3),\n",
    "    layers.Conv1D(128, 5, activation='relu'),\n",
    "    layers.MaxPooling1D(3),\n",
    "    layers.Conv1D(256, 5, activation='relu'),\n",
    "    layers.GlobalAveragePooling1D(),\n",
    "    layers.Dense(128, activation='relu', kernel_regularizer=regularizers.l2(0.001)),\n",
    "    layers.Dropout(0.5),\n",
    "    layers.Dense(num_classes, activation='softmax')\n",
    "])\n"
   ]
  },
  {
   "cell_type": "code",
   "execution_count": 37,
   "id": "6a30df10",
   "metadata": {},
   "outputs": [
    {
     "name": "stdout",
     "output_type": "stream",
     "text": [
      "Model: \"sequential_3\"\n",
      "_________________________________________________________________\n",
      " Layer (type)                Output Shape              Param #   \n",
      "=================================================================\n",
      " conv1d_6 (Conv1D)           (None, 996, 64)           1344      \n",
      "                                                                 \n",
      " max_pooling1d_6 (MaxPoolin  (None, 332, 64)           0         \n",
      " g1D)                                                            \n",
      "                                                                 \n",
      " conv1d_7 (Conv1D)           (None, 328, 128)          41088     \n",
      "                                                                 \n",
      " max_pooling1d_7 (MaxPoolin  (None, 109, 128)          0         \n",
      " g1D)                                                            \n",
      "                                                                 \n",
      " conv1d_8 (Conv1D)           (None, 105, 256)          164096    \n",
      "                                                                 \n",
      " global_average_pooling1d (  (None, 256)               0         \n",
      " GlobalAveragePooling1D)                                         \n",
      "                                                                 \n",
      " dense_6 (Dense)             (None, 128)               32896     \n",
      "                                                                 \n",
      " dropout (Dropout)           (None, 128)               0         \n",
      "                                                                 \n",
      " dense_7 (Dense)             (None, 3)                 387       \n",
      "                                                                 \n",
      "=================================================================\n",
      "Total params: 239811 (936.76 KB)\n",
      "Trainable params: 239811 (936.76 KB)\n",
      "Non-trainable params: 0 (0.00 Byte)\n",
      "_________________________________________________________________\n"
     ]
    }
   ],
   "source": [
    "# Compile the model\n",
    "model.compile(optimizer='adam',\n",
    "              loss='sparse_categorical_crossentropy',\n",
    "              metrics=['accuracy'])\n",
    "\n",
    "# Print model summary\n",
    "model.summary()"
   ]
  },
  {
   "cell_type": "code",
   "execution_count": 38,
   "id": "4a86300c",
   "metadata": {},
   "outputs": [
    {
     "name": "stdout",
     "output_type": "stream",
     "text": [
      "Epoch 1/20\n",
      "8/8 [==============================] - 2s 55ms/step - loss: 1.0037 - accuracy: 0.6680 - val_loss: 0.6609 - val_accuracy: 0.8710\n",
      "Epoch 2/20\n",
      "8/8 [==============================] - 0s 30ms/step - loss: 0.6526 - accuracy: 0.8279 - val_loss: 0.5497 - val_accuracy: 0.9032\n",
      "Epoch 3/20\n",
      "8/8 [==============================] - 0s 28ms/step - loss: 0.6082 - accuracy: 0.8402 - val_loss: 0.5157 - val_accuracy: 0.9032\n",
      "Epoch 4/20\n",
      "8/8 [==============================] - 0s 29ms/step - loss: 0.5578 - accuracy: 0.8566 - val_loss: 0.4121 - val_accuracy: 0.9032\n",
      "Epoch 5/20\n",
      "8/8 [==============================] - 0s 28ms/step - loss: 0.5183 - accuracy: 0.8730 - val_loss: 0.4233 - val_accuracy: 0.9032\n",
      "Epoch 6/20\n",
      "8/8 [==============================] - 0s 28ms/step - loss: 0.4896 - accuracy: 0.8893 - val_loss: 0.4094 - val_accuracy: 0.9032\n",
      "Epoch 7/20\n",
      "8/8 [==============================] - 0s 32ms/step - loss: 0.4522 - accuracy: 0.8975 - val_loss: 0.3875 - val_accuracy: 0.9032\n",
      "Epoch 8/20\n",
      "8/8 [==============================] - 0s 30ms/step - loss: 0.4106 - accuracy: 0.8975 - val_loss: 0.3621 - val_accuracy: 0.9032\n",
      "Epoch 9/20\n",
      "8/8 [==============================] - 0s 28ms/step - loss: 0.3958 - accuracy: 0.8975 - val_loss: 0.3894 - val_accuracy: 0.9032\n",
      "Epoch 10/20\n",
      "8/8 [==============================] - 0s 27ms/step - loss: 0.4085 - accuracy: 0.8975 - val_loss: 0.3491 - val_accuracy: 0.9032\n",
      "Epoch 11/20\n",
      "8/8 [==============================] - 0s 27ms/step - loss: 0.3694 - accuracy: 0.9016 - val_loss: 0.3481 - val_accuracy: 0.9032\n",
      "Epoch 12/20\n",
      "8/8 [==============================] - 0s 28ms/step - loss: 0.3607 - accuracy: 0.8975 - val_loss: 0.3692 - val_accuracy: 0.9032\n",
      "Epoch 13/20\n",
      "8/8 [==============================] - 0s 29ms/step - loss: 0.3783 - accuracy: 0.8934 - val_loss: 0.3016 - val_accuracy: 0.9032\n",
      "Epoch 14/20\n",
      "8/8 [==============================] - 0s 28ms/step - loss: 0.3327 - accuracy: 0.9139 - val_loss: 0.2841 - val_accuracy: 0.9032\n",
      "Epoch 15/20\n",
      "8/8 [==============================] - 0s 29ms/step - loss: 0.3325 - accuracy: 0.9098 - val_loss: 0.2805 - val_accuracy: 0.9032\n",
      "Epoch 16/20\n",
      "8/8 [==============================] - 0s 28ms/step - loss: 0.3245 - accuracy: 0.9057 - val_loss: 0.2804 - val_accuracy: 0.9032\n",
      "Epoch 17/20\n",
      "8/8 [==============================] - 0s 35ms/step - loss: 0.3619 - accuracy: 0.9098 - val_loss: 0.2669 - val_accuracy: 0.9032\n",
      "Epoch 18/20\n",
      "8/8 [==============================] - 0s 29ms/step - loss: 0.3148 - accuracy: 0.9221 - val_loss: 0.3410 - val_accuracy: 0.9032\n",
      "Epoch 19/20\n",
      "8/8 [==============================] - 0s 30ms/step - loss: 0.3139 - accuracy: 0.9180 - val_loss: 0.2720 - val_accuracy: 0.9032\n",
      "Epoch 20/20\n",
      "8/8 [==============================] - 0s 27ms/step - loss: 0.3025 - accuracy: 0.9180 - val_loss: 0.2949 - val_accuracy: 0.9032\n",
      "1/1 [==============================] - 0s 32ms/step - loss: 0.2066 - accuracy: 0.9667\n",
      "Test accuracy: 0.9666666388511658\n"
     ]
    }
   ],
   "source": [
    "# Train the model\n",
    "history = model.fit(X_train, y_train, epochs=20, validation_data=(X_val, y_val), batch_size=32)\n",
    "\n",
    "# Evaluate the model on test data\n",
    "test_loss, test_acc = model.evaluate(X_test, y_test)\n",
    "print('Test accuracy:', test_acc)"
   ]
  },
  {
   "cell_type": "code",
   "execution_count": 39,
   "id": "a1750290",
   "metadata": {},
   "outputs": [
    {
     "data": {
      "image/png": "[encoded data removed]",
      "text/plain": [
       "<Figure size 640x480 with 1 Axes>"
      ]
     },
     "metadata": {},
     "output_type": "display_data"
    }
   ],
   "source": [
    "# Plot training history\n",
    "plt.plot(history.history['accuracy'], label='accuracy')\n",
    "plt.plot(history.history['val_accuracy'], label = 'val_accuracy')\n",
    "plt.xlabel('Epoch')\n",
    "plt.ylabel('Accuracy')\n",
    "plt.ylim([0, 1])\n",
    "plt.legend(loc='lower right')\n",
    "plt.show()"
   ]
  },
  {
   "cell_type": "code",
   "execution_count": null,
   "id": "a18b052d",
   "metadata": {},
   "outputs": [],
   "source": []
  }
 ],
 "metadata": {
  "kernelspec": {
   "display_name": "Python 3 (ipykernel)",
   "language": "python",
   "name": "python3"
  },
  "language_info": {
   "codemirror_mode": {
    "name": "ipython",
    "version": 3
   },
   "file_extension": ".py",
   "mimetype": "text/x-python",
   "name": "python",
   "nbconvert_exporter": "python",
   "pygments_lexer": "ipython3",
   "version": "3.11.5"
  }
 },
 "nbformat": 4,
 "nbformat_minor": 5
}
